{
 "cells": [
  {
   "cell_type": "code",
   "execution_count": 5,
   "id": "caae5c73",
   "metadata": {},
   "outputs": [
    {
     "name": "stdout",
     "output_type": "stream",
     "text": [
      "\n",
      "{'location': 'Rhapta Road, Nairobi, Kenya', 'rtype': 'Standard Room with Two Single Beds', 'price': 'KES 8,504'}\n",
      "{'location': 'Rhapta Road, Nairobi, Kenya', 'rtype': 'Standard Double Room', 'price': 'KES 8,504'}\n",
      "{'location': 'Rhapta Road, Nairobi, Kenya', 'rtype': 'Standard Room with One Single Bed and One Double Bed', 'price': 'KES 10,022'}\n",
      "{'location': 'Rhapta Road, Nairobi, Kenya', 'rtype': 'Standard Room With Three Single Beds', 'price': 'KES 10,022'}\n",
      "{'location': 'Rhapta Road, Nairobi, Kenya', 'rtype': 'Superior Double Room', 'price': 'KES 11,035'}\n",
      "{'location': 'Rhapta Road, Nairobi, Kenya', 'rtype': 'Superior Twin Room', 'price': 'KES 11,035'}\n",
      "{'location': 'Rhapta Road, Nairobi, Kenya', 'rtype': 'Superior Family Room', 'price': 'KES 12,553'}\n"
     ]
    }
   ],
   "source": [
    "from selenium import webdriver\n",
    "from webdriver_manager.chrome import ChromeDriverManager\n",
    "from selenium.webdriver.common.by import By\n",
    "from selenium.webdriver.support.select import Select\n",
    "import numpy as np\n",
    "from selenium.webdriver.support.ui import WebDriverWait\n",
    "from selenium.webdriver.support import expected_conditions as EC\n",
    "import xlsxwriter\n",
    "import warnings\n",
    "warnings.filterwarnings('ignore')\n",
    "\n",
    "#to get the webpage\n",
    "page_url = \"https://hotels.com\"\n",
    "driver.get(page_url)\n",
    "\n",
    "location = driver.find_elements(By.CLASS_NAME, \"hp_address_subtitle\")[0].text\n",
    "title = driver.find_elements(By.CLASS_NAME, \"pp-header__title\")[0].text\n",
    "roomtypes=driver.find_elements(By.CLASS_NAME, \"hprt-roomtype-icon-link\")\n",
    "\n",
    "#To save the csv file\n",
    "workbook = xlsxwriter.Workbook('Hotels.xlsx')\n",
    "worksheet = workbook.add_worksheet()\n",
    "\n",
    "# Start from the first cell. Rows and columns are zero indexed.\n",
    "row = 0\n",
    "col = 0\n",
    "\n",
    "#Looping\n",
    "for e in roomtypes:\n",
    "    rtype = e.find_element(By.CLASS_NAME, \"hprt-roomtype-icon-link\").text\n",
    "    price = e.find_element(By.CLASS_NAME, \"prco-valign-middle-helper\").text\n",
    "    worksheet.write(row, 0, rtype)\n",
    "    worksheet.write(row, 1, price)\n",
    "    worksheet.write(row, 2, location)\n",
    "    row += 1\n",
    "    print({'location': location, 'rtype': rtype, 'price': price})\n",
    "\n",
    "workbook.close()"
   ]
  },
  {
   "cell_type": "code",
   "execution_count": null,
   "id": "9f5869bb",
   "metadata": {},
   "outputs": [],
   "source": []
  }
 ],
 "metadata": {
  "kernelspec": {
   "display_name": "Python 3 (ipykernel)",
   "language": "python",
   "name": "python3"
  },
  "language_info": {
   "codemirror_mode": {
    "name": "ipython",
    "version": 3
   },
   "file_extension": ".py",
   "mimetype": "text/x-python",
   "name": "python",
   "nbconvert_exporter": "python",
   "pygments_lexer": "ipython3",
   "version": "3.9.12"
  }
 },
 "nbformat": 4,
 "nbformat_minor": 5
}
